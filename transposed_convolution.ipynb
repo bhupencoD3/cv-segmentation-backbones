{
 "cells": [
  {
   "cell_type": "markdown",
   "id": "96500c94",
   "metadata": {},
   "source": [
    "##### Transposed Convolution/UpSampling"
   ]
  },
  {
   "cell_type": "code",
   "execution_count": 2,
   "id": "01882271",
   "metadata": {},
   "outputs": [],
   "source": [
    "import torch\n",
    "import torch.nn.functional as F"
   ]
  },
  {
   "cell_type": "code",
   "execution_count": 3,
   "id": "b361330a",
   "metadata": {},
   "outputs": [],
   "source": [
    "image = torch.tensor([\n",
    "    [1,2],\n",
    "    [3,4]\n",
    "]).float().unsqueeze(0).unsqueeze(0)"
   ]
  },
  {
   "cell_type": "code",
   "execution_count": 4,
   "id": "d138ded0",
   "metadata": {},
   "outputs": [],
   "source": [
    "### Nearest-Neighbour upsampling\n",
    "upsampled_nn = F.interpolate(image,scale_factor=2,mode='nearest')"
   ]
  },
  {
   "cell_type": "code",
   "execution_count": 5,
   "id": "bd94c610",
   "metadata": {},
   "outputs": [],
   "source": [
    "### Transposed Convolution\n",
    "conv_transpose = torch.nn.ConvTranspose2d(1,1,kernel_size=3,stride=2,padding=1)\n",
    "ouput_conv_transpose = conv_transpose(image)"
   ]
  },
  {
   "cell_type": "code",
   "execution_count": 6,
   "id": "35f3c378",
   "metadata": {},
   "outputs": [
    {
     "name": "stdout",
     "output_type": "stream",
     "text": [
      "Nearest Neighbour Upsampling: tensor([[1., 1., 2., 2.],\n",
      "        [1., 1., 2., 2.],\n",
      "        [3., 3., 4., 4.],\n",
      "        [3., 3., 4., 4.]])\n",
      "Transpose Convolution Output: tensor([[-0.3777,  0.1057, -0.4937],\n",
      "        [ 0.0712,  0.0189,  0.0134],\n",
      "        [-0.6097,  0.3358, -0.7257]], grad_fn=<SqueezeBackward0>)\n"
     ]
    }
   ],
   "source": [
    "print(f\"Nearest Neighbour Upsampling: {upsampled_nn.squeeze()}\")\n",
    "print(f\"Transpose Convolution Output: {ouput_conv_transpose.squeeze()}\")"
   ]
  }
 ],
 "metadata": {
  "kernelspec": {
   "display_name": "Python 3",
   "language": "python",
   "name": "python3"
  },
  "language_info": {
   "codemirror_mode": {
    "name": "ipython",
    "version": 3
   },
   "file_extension": ".py",
   "mimetype": "text/x-python",
   "name": "python",
   "nbconvert_exporter": "python",
   "pygments_lexer": "ipython3",
   "version": "3.11.11"
  }
 },
 "nbformat": 4,
 "nbformat_minor": 5
}
