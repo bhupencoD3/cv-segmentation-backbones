{
 "cells": [
  {
   "cell_type": "code",
   "execution_count": 49,
   "id": "0134ec25",
   "metadata": {},
   "outputs": [],
   "source": [
    "import torch\n",
    "import torch.nn.functional as F"
   ]
  },
  {
   "cell_type": "code",
   "execution_count": 56,
   "id": "ffb98165",
   "metadata": {},
   "outputs": [],
   "source": [
    "image = torch.tensor([\n",
    "    [1,3,2,4],\n",
    "    [5,6,7,8],\n",
    "    [9,2,3,1],\n",
    "    [4,0,6,2]\n",
    "    ]).float().unsqueeze(0).unsqueeze(0)"
   ]
  },
  {
   "cell_type": "code",
   "execution_count": 57,
   "id": "51818ef1",
   "metadata": {},
   "outputs": [
    {
     "name": "stdout",
     "output_type": "stream",
     "text": [
      "4\n",
      "torch.Size([1, 1, 4, 4])\n"
     ]
    }
   ],
   "source": [
    "print(image.ndim)\n",
    "print(image.shape)"
   ]
  },
  {
   "cell_type": "code",
   "execution_count": 58,
   "id": "6345fba4",
   "metadata": {},
   "outputs": [],
   "source": [
    "# Max Pool\n",
    "pooled = F.max_pool2d(image,kernel_size=2)\n"
   ]
  },
  {
   "cell_type": "code",
   "execution_count": 62,
   "id": "1cfaa026",
   "metadata": {},
   "outputs": [],
   "source": [
    "conv_layer = torch.nn.Conv2d(1,1,kernel_size=2,stride=2)\n",
    "conv_output = conv_layer(image)"
   ]
  },
  {
   "cell_type": "code",
   "execution_count": 60,
   "id": "ad1582d9",
   "metadata": {},
   "outputs": [
    {
     "name": "stdout",
     "output_type": "stream",
     "text": [
      "Max Pooled Output:  tensor([[6., 8.],\n",
      "        [9., 6.]])\n"
     ]
    }
   ],
   "source": [
    "print('Max Pooled Output: ',pooled.squeeze())"
   ]
  },
  {
   "cell_type": "code",
   "execution_count": 63,
   "id": "65d81a5a",
   "metadata": {},
   "outputs": [
    {
     "name": "stdout",
     "output_type": "stream",
     "text": [
      "Stride Convolutional Output:  tensor([[-0.4616, -0.7255],\n",
      "        [-3.4879, -1.6153]], grad_fn=<SqueezeBackward0>)\n"
     ]
    }
   ],
   "source": [
    "print('Stride Convolutional Output: ',conv_output.squeeze())"
   ]
  }
 ],
 "metadata": {
  "kernelspec": {
   "display_name": "Python 3",
   "language": "python",
   "name": "python3"
  },
  "language_info": {
   "codemirror_mode": {
    "name": "ipython",
    "version": 3
   },
   "file_extension": ".py",
   "mimetype": "text/x-python",
   "name": "python",
   "nbconvert_exporter": "python",
   "pygments_lexer": "ipython3",
   "version": "3.11.11"
  }
 },
 "nbformat": 4,
 "nbformat_minor": 5
}
