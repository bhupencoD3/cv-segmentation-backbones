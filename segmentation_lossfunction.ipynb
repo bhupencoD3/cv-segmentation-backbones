{
 "cells": [
  {
   "cell_type": "code",
   "execution_count": 2,
   "id": "42d77717",
   "metadata": {},
   "outputs": [],
   "source": [
    "import torch\n",
    "import torch.nn.functional as F"
   ]
  },
  {
   "cell_type": "code",
   "execution_count": 3,
   "id": "8ae251af",
   "metadata": {},
   "outputs": [],
   "source": [
    "def dice_loss(pred,target,smooth=1e-6):\n",
    "    intersection = (pred*target).sum()\n",
    "    union = pred.sum() + target.sum()\n",
    "    return  1 - ( 2. * intersection + smooth ) / ( union + smooth )\n"
   ]
  },
  {
   "cell_type": "code",
   "execution_count": 5,
   "id": "4b523e1a",
   "metadata": {},
   "outputs": [],
   "source": [
    "# dummy tensor\n",
    "pred = torch.tensor([0.9,0.1,0.8,0.3])\n",
    "target = torch.tensor([1.0,0.0,1.0,0.0])\n",
    "\n",
    "\n",
    "# Cross-Entropy Loss\n",
    "ce_loss = F.binary_cross_entropy(pred,target)\n",
    "\n",
    "dice = dice_loss(pred,target)\n"
   ]
  },
  {
   "cell_type": "code",
   "execution_count": 6,
   "id": "c4022e91",
   "metadata": {},
   "outputs": [],
   "source": [
    "def segmentation_loss(ce_loss,dice_loss,weightage=0.5):\n",
    "    return ce_loss * weightage + dice_loss"
   ]
  },
  {
   "cell_type": "code",
   "execution_count": 8,
   "id": "9d42f3d5",
   "metadata": {},
   "outputs": [
    {
     "name": "stdout",
     "output_type": "stream",
     "text": [
      "tensor(0.2695)\n"
     ]
    }
   ],
   "source": [
    "print(segmentation_loss(ce_loss,dice))"
   ]
  }
 ],
 "metadata": {
  "kernelspec": {
   "display_name": "Python 3",
   "language": "python",
   "name": "python3"
  },
  "language_info": {
   "codemirror_mode": {
    "name": "ipython",
    "version": 3
   },
   "file_extension": ".py",
   "mimetype": "text/x-python",
   "name": "python",
   "nbconvert_exporter": "python",
   "pygments_lexer": "ipython3",
   "version": "3.11.11"
  }
 },
 "nbformat": 4,
 "nbformat_minor": 5
}
